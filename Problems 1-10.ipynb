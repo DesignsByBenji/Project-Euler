{
 "cells": [
  {
   "cell_type": "markdown",
   "metadata": {},
   "source": [
    "# Problems 1-10"
   ]
  },
  {
   "cell_type": "markdown",
   "metadata": {},
   "source": [
    "### Problem 1"
   ]
  },
  {
   "cell_type": "code",
   "execution_count": 1,
   "metadata": {},
   "outputs": [
    {
     "name": "stdout",
     "output_type": "stream",
     "text": [
      "233168\n"
     ]
    }
   ],
   "source": [
    "n = 1000\n",
    "sum = 0\n",
    "\n",
    "for i in range(1,n):\n",
    "    if i % 3 == 0 or i % 5 == 0:\n",
    "       sum += i\n",
    "print sum"
   ]
  },
  {
   "cell_type": "markdown",
   "metadata": {},
   "source": [
    "### Problem 2"
   ]
  },
  {
   "cell_type": "code",
   "execution_count": 2,
   "metadata": {},
   "outputs": [
    {
     "name": "stdout",
     "output_type": "stream",
     "text": [
      "4613732\n"
     ]
    }
   ],
   "source": [
    "prev1 = 2\n",
    "prev2 = 1\n",
    "sum = 2\n",
    "\n",
    "while prev1 < 4000000 and prev2 < 4000000:\n",
    "    prev2 = prev1 + prev2\n",
    "    if prev2 % 2 == 0:\n",
    "        sum += prev2\n",
    "    temp = prev1\n",
    "    prev1 = prev2\n",
    "    prev2 = temp\n",
    "    \n",
    "print sum"
   ]
  },
  {
   "cell_type": "markdown",
   "metadata": {},
   "source": [
    "### Problem 3"
   ]
  },
  {
   "cell_type": "code",
   "execution_count": 3,
   "metadata": {},
   "outputs": [
    {
     "name": "stdout",
     "output_type": "stream",
     "text": [
      "[71, 839, 1471, 6857]\n"
     ]
    }
   ],
   "source": [
    "def is_prime(n):\n",
    "    i = 2\n",
    "    while i < n:\n",
    "        if n % i == 0:\n",
    "            return False\n",
    "        i += 1\n",
    "    return True\n",
    "\n",
    "n = 600851475143\n",
    "primes = []\n",
    "\n",
    "current = 2\n",
    "\n",
    "while not is_prime(n):\n",
    "    if n%current == 0:\n",
    "        primes.append(current)\n",
    "        n /= current\n",
    "    current += 1\n",
    "    \n",
    "primes.append(n)\n",
    "print primes"
   ]
  },
  {
   "cell_type": "markdown",
   "metadata": {},
   "source": [
    "### Problem 4"
   ]
  },
  {
   "cell_type": "code",
   "execution_count": 4,
   "metadata": {},
   "outputs": [
    {
     "name": "stdout",
     "output_type": "stream",
     "text": [
      "906609\n"
     ]
    }
   ],
   "source": [
    "def is_palindrome(n):\n",
    "    n = str(n)\n",
    "    end = len(n)-1\n",
    "    current = 0\n",
    "    \n",
    "    while current < end:\n",
    "        if n[current] != n[end]:\n",
    "            return False\n",
    "        current += 1\n",
    "        end -= 1\n",
    "    return True\n",
    "    \n",
    "num1 = 999\n",
    "largest = 0\n",
    "\n",
    "while num1 >= 1:\n",
    "    num2 = num1 - 1\n",
    "    while num2 >= 1:\n",
    "        current = num1 * num2\n",
    "        if is_palindrome(current) and current > largest:\n",
    "            largest = current\n",
    "        num2 -= 1\n",
    "    num1 -= 1\n",
    "    \n",
    "print largest"
   ]
  },
  {
   "cell_type": "markdown",
   "metadata": {},
   "source": [
    "### Problem 5"
   ]
  },
  {
   "cell_type": "code",
   "execution_count": 5,
   "metadata": {},
   "outputs": [
    {
     "name": "stdout",
     "output_type": "stream",
     "text": [
      "232792560\n"
     ]
    }
   ],
   "source": [
    "def test(n):\n",
    "    for i in range(1,20):\n",
    "        if n % i != 0:\n",
    "            return False\n",
    "    return True\n",
    "\n",
    "current = 1\n",
    "toggle = True\n",
    "while toggle:\n",
    "    if test(current):\n",
    "        print current\n",
    "        toggle = False\n",
    "    current += 1"
   ]
  },
  {
   "cell_type": "markdown",
   "metadata": {},
   "source": [
    "### Problem 6"
   ]
  },
  {
   "cell_type": "code",
   "execution_count": 6,
   "metadata": {},
   "outputs": [
    {
     "name": "stdout",
     "output_type": "stream",
     "text": [
      "25164150\n"
     ]
    }
   ],
   "source": [
    "sum_squares = 0\n",
    "square_sums = 0\n",
    "n = 100\n",
    "\n",
    "for i in range(1, n+1):\n",
    "    sum_squares += i**2\n",
    "    square_sums += i\n",
    "square_sums = square_sums**2\n",
    "print square_sums - sum_squares"
   ]
  },
  {
   "cell_type": "markdown",
   "metadata": {},
   "source": [
    "### Problem 7"
   ]
  },
  {
   "cell_type": "code",
   "execution_count": 7,
   "metadata": {},
   "outputs": [
    {
     "name": "stdout",
     "output_type": "stream",
     "text": [
      "104743\n"
     ]
    }
   ],
   "source": [
    "n = 10001\n",
    "i = 1\n",
    "current = 2\n",
    "\n",
    "while i <= n:\n",
    "    if is_prime(current):\n",
    "        i += 1\n",
    "    current += 1\n",
    "print current-1"
   ]
  },
  {
   "cell_type": "markdown",
   "metadata": {},
   "source": [
    "### Problem 8"
   ]
  },
  {
   "cell_type": "code",
   "execution_count": 19,
   "metadata": {},
   "outputs": [
    {
     "name": "stdout",
     "output_type": "stream",
     "text": [
      "23514624000\n"
     ]
    }
   ],
   "source": [
    "num = 7316717653133062491922511967442657474235534919493496983520312774506326239578318016984801869478851843858615607891129494954595017379583319528532088055111254069874715852386305071569329096329522744304355766896648950445244523161731856403098711121722383113622298934233803081353362766142828064444866452387493035890729629049156044077239071381051585930796086670172427121883998797908792274921901699720888093776657273330010533678812202354218097512545405947522435258490771167055601360483958644670632441572215539753697817977846174064955149290862569321978468622482839722413756570560574902614079729686524145351004748216637048440319989000889524345065854122758866688116427171479924442928230863465674813919123162824586178664583591245665294765456828489128831426076900422421902267105562632111110937054421750694165896040807198403850962455444362981230987879927244284909188845801561660979191338754992005240636899125607176060588611646710940507754100225698315520005593572972571636269561882670428252483600823257530420752963450\n",
    "n = 13\n",
    "i = 0\n",
    "largest = 0\n",
    "length = len(str(num))\n",
    "\n",
    "while (i + n) < length:\n",
    "    current = 1\n",
    "    for j in range(0,n):\n",
    "        current *= int(str(num)[i+j])\n",
    "    if current > largest:\n",
    "        largest = current\n",
    "    i += 1\n",
    "print largest"
   ]
  },
  {
   "cell_type": "markdown",
   "metadata": {},
   "source": [
    "### Problem 9"
   ]
  },
  {
   "cell_type": "code",
   "execution_count": 22,
   "metadata": {},
   "outputs": [
    {
     "name": "stdout",
     "output_type": "stream",
     "text": [
      "31875000\n"
     ]
    }
   ],
   "source": [
    "total = 1000\n",
    "\n",
    "for i in range(1,1000):\n",
    "    for j in range(i+1,1000):\n",
    "        for k in range(j+1,1000):\n",
    "            if i + j + k == 1000 and i**2 + j**2 == k**2:\n",
    "                print i*j*k"
   ]
  },
  {
   "cell_type": "markdown",
   "metadata": {},
   "source": [
    "### Problem 10"
   ]
  },
  {
   "cell_type": "code",
   "execution_count": null,
   "metadata": {},
   "outputs": [],
   "source": [
    "sum_of_primes = 0\n",
    "n = 2000000\n",
    "\n",
    "for i in range(2,n):\n",
    "    if is_prime(i):\n",
    "        sum_of_primes += i\n",
    "print sum_of_primes"
   ]
  }
 ],
 "metadata": {
  "kernelspec": {
   "display_name": "Python 2",
   "language": "python",
   "name": "python2"
  },
  "language_info": {
   "codemirror_mode": {
    "name": "ipython",
    "version": 2
   },
   "file_extension": ".py",
   "mimetype": "text/x-python",
   "name": "python",
   "nbconvert_exporter": "python",
   "pygments_lexer": "ipython2",
   "version": "2.7.12"
  }
 },
 "nbformat": 4,
 "nbformat_minor": 2
}
